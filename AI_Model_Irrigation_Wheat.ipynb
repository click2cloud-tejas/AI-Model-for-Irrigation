{
 "cells": [
  {
   "cell_type": "code",
   "execution_count": null,
   "id": "22fe420d-8c6e-47fb-9eb5-ee46724a98c6",
   "metadata": {},
   "outputs": [],
   "source": []
  },
  {
   "cell_type": "code",
   "execution_count": 2,
   "id": "3f5e0199-57f4-4447-9ec8-88157845275d",
   "metadata": {},
   "outputs": [
    {
     "name": "stdout",
     "output_type": "stream",
     "text": [
      "Mean Squared Error (MSE): 4.0384648629646697e-19\n",
      "R² Score: 1.0\n"
     ]
    }
   ],
   "source": [
    "import pandas as pd\n",
    "import numpy as np\n",
    "from sklearn.model_selection import train_test_split\n",
    "from sklearn.linear_model import LinearRegression\n",
    "from sklearn.metrics import mean_squared_error, r2_score\n",
    "from sklearn.preprocessing import LabelEncoder\n",
    "\n",
    "# Load your dataset\n",
    "data = pd.read_csv('training_dataset_wheat.csv')\n",
    "\n",
    "# # Print the column names to check for any discrepancies\n",
    "# print(data.columns)\n",
    "\n",
    "\n",
    "# Step 1: Handle Date Column\n",
    "data['Date'] = pd.to_datetime(data['Date'], format='%d-%m-%Y')\n",
    "data['Days_Since_Start'] = (data['Date'] - data['Date'].min()).dt.days\n",
    "data.drop(columns=['Date'], inplace=True)\n",
    "\n",
    "# Step 2: Handle Categorical Variables\n",
    "label_encoder = LabelEncoder()\n",
    "data['Phase'] = label_encoder.fit_transform(data['Phase'])\n",
    "\n",
    "# Step 3: Check for Missing or Invalid Data\n",
    "data.fillna(0, inplace=True)\n",
    "\n",
    "# Step 4: Select Specific Columns\n",
    "# Specify the columns you want to use as features (X)\n",
    "selected_columns = [\n",
    "    'Days_Since_Start', 'Phase', \n",
    "    'Soil Moisture Difference',  'Etc(in m)', 'Rainfall(in mm)',\n",
    "    'Soil bulk Density (g/cm3)', 'Root Zone Depth(cm)','NIR( in m)','Volume_SM(to match req S.M)', 'Volume (Rainfall)','Volume(Etc)','Final Volume'\n",
    "]\n",
    "X = data[selected_columns]\n",
    "\n",
    "# The target column\n",
    "y = data['Irrigation Req']\n",
    "\n",
    "# Step 5: Train-Test Split\n",
    "X_train, X_test, y_train, y_test = train_test_split(X, y, test_size=0.2, random_state=42)\n",
    "\n",
    "# Step 6: Train the Linear Regression Model\n",
    "model = LinearRegression()\n",
    "model.fit(X_train, y_train)\n",
    "\n",
    "# Step 7: Make Predictions and Evaluate\n",
    "y_pred = model.predict(X_test)\n",
    "\n",
    "# Print evaluation metrics\n",
    "print(\"Mean Squared Error (MSE):\", mean_squared_error(y_test, y_pred))\n",
    "print(\"R² Score:\", r2_score(y_test, y_pred))\n",
    "\n"
   ]
  },
  {
   "cell_type": "code",
   "execution_count": null,
   "id": "424ad9ea-52db-4138-9fc6-7466c216c79e",
   "metadata": {},
   "outputs": [],
   "source": []
  },
  {
   "cell_type": "code",
   "execution_count": null,
   "id": "23fed095-ac93-4b2b-871b-4881695f823a",
   "metadata": {},
   "outputs": [],
   "source": []
  }
 ],
 "metadata": {
  "kernelspec": {
   "display_name": "Python 3 (ipykernel)",
   "language": "python",
   "name": "python3"
  },
  "language_info": {
   "codemirror_mode": {
    "name": "ipython",
    "version": 3
   },
   "file_extension": ".py",
   "mimetype": "text/x-python",
   "name": "python",
   "nbconvert_exporter": "python",
   "pygments_lexer": "ipython3",
   "version": "3.12.7"
  }
 },
 "nbformat": 4,
 "nbformat_minor": 5
}
